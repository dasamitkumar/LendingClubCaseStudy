{
 "cells": [
  {
   "cell_type": "code",
   "execution_count": 1,
   "metadata": {},
   "outputs": [],
   "source": [
    "#Load the necessary Libraries\n",
    "import pandas as pd\n",
    "import numpy as np\n",
    "import seaborn as sns\n",
    "import matplotlib.pyplot as plt"
   ]
  },
  {
   "cell_type": "code",
   "execution_count": 8,
   "metadata": {},
   "outputs": [
    {
     "name": "stderr",
     "output_type": "stream",
     "text": [
      "/var/folders/_1/j7jqjd896yb00t516lkn5j280000gn/T/ipykernel_1426/2065032070.py:1: DtypeWarning: Columns (47) have mixed types. Specify dtype option on import or set low_memory=False.\n",
      "  df=pd.read_csv('loan.csv')\n"
     ]
    }
   ],
   "source": [
    "df=pd.read_csv('loan.csv')"
   ]
  },
  {
   "cell_type": "code",
   "execution_count": 21,
   "metadata": {},
   "outputs": [
    {
     "data": {
      "text/html": [
       "<div>\n",
       "<style scoped>\n",
       "    .dataframe tbody tr th:only-of-type {\n",
       "        vertical-align: middle;\n",
       "    }\n",
       "\n",
       "    .dataframe tbody tr th {\n",
       "        vertical-align: top;\n",
       "    }\n",
       "\n",
       "    .dataframe thead th {\n",
       "        text-align: right;\n",
       "    }\n",
       "</style>\n",
       "<table border=\"1\" class=\"dataframe\">\n",
       "  <thead>\n",
       "    <tr style=\"text-align: right;\">\n",
       "      <th></th>\n",
       "      <th>id</th>\n",
       "      <th>member_id</th>\n",
       "      <th>loan_amnt</th>\n",
       "      <th>funded_amnt</th>\n",
       "      <th>funded_amnt_inv</th>\n",
       "      <th>term</th>\n",
       "      <th>int_rate</th>\n",
       "      <th>installment</th>\n",
       "      <th>grade</th>\n",
       "      <th>sub_grade</th>\n",
       "      <th>...</th>\n",
       "      <th>num_tl_90g_dpd_24m</th>\n",
       "      <th>num_tl_op_past_12m</th>\n",
       "      <th>pct_tl_nvr_dlq</th>\n",
       "      <th>percent_bc_gt_75</th>\n",
       "      <th>pub_rec_bankruptcies</th>\n",
       "      <th>tax_liens</th>\n",
       "      <th>tot_hi_cred_lim</th>\n",
       "      <th>total_bal_ex_mort</th>\n",
       "      <th>total_bc_limit</th>\n",
       "      <th>total_il_high_credit_limit</th>\n",
       "    </tr>\n",
       "  </thead>\n",
       "  <tbody>\n",
       "    <tr>\n",
       "      <th>0</th>\n",
       "      <td>1077501</td>\n",
       "      <td>1296599</td>\n",
       "      <td>5000</td>\n",
       "      <td>5000</td>\n",
       "      <td>4975.0</td>\n",
       "      <td>36 months</td>\n",
       "      <td>10.65%</td>\n",
       "      <td>162.87</td>\n",
       "      <td>B</td>\n",
       "      <td>B2</td>\n",
       "      <td>...</td>\n",
       "      <td>NaN</td>\n",
       "      <td>NaN</td>\n",
       "      <td>NaN</td>\n",
       "      <td>NaN</td>\n",
       "      <td>0.0</td>\n",
       "      <td>0.0</td>\n",
       "      <td>NaN</td>\n",
       "      <td>NaN</td>\n",
       "      <td>NaN</td>\n",
       "      <td>NaN</td>\n",
       "    </tr>\n",
       "    <tr>\n",
       "      <th>1</th>\n",
       "      <td>1077430</td>\n",
       "      <td>1314167</td>\n",
       "      <td>2500</td>\n",
       "      <td>2500</td>\n",
       "      <td>2500.0</td>\n",
       "      <td>60 months</td>\n",
       "      <td>15.27%</td>\n",
       "      <td>59.83</td>\n",
       "      <td>C</td>\n",
       "      <td>C4</td>\n",
       "      <td>...</td>\n",
       "      <td>NaN</td>\n",
       "      <td>NaN</td>\n",
       "      <td>NaN</td>\n",
       "      <td>NaN</td>\n",
       "      <td>0.0</td>\n",
       "      <td>0.0</td>\n",
       "      <td>NaN</td>\n",
       "      <td>NaN</td>\n",
       "      <td>NaN</td>\n",
       "      <td>NaN</td>\n",
       "    </tr>\n",
       "    <tr>\n",
       "      <th>2</th>\n",
       "      <td>1077175</td>\n",
       "      <td>1313524</td>\n",
       "      <td>2400</td>\n",
       "      <td>2400</td>\n",
       "      <td>2400.0</td>\n",
       "      <td>36 months</td>\n",
       "      <td>15.96%</td>\n",
       "      <td>84.33</td>\n",
       "      <td>C</td>\n",
       "      <td>C5</td>\n",
       "      <td>...</td>\n",
       "      <td>NaN</td>\n",
       "      <td>NaN</td>\n",
       "      <td>NaN</td>\n",
       "      <td>NaN</td>\n",
       "      <td>0.0</td>\n",
       "      <td>0.0</td>\n",
       "      <td>NaN</td>\n",
       "      <td>NaN</td>\n",
       "      <td>NaN</td>\n",
       "      <td>NaN</td>\n",
       "    </tr>\n",
       "    <tr>\n",
       "      <th>3</th>\n",
       "      <td>1076863</td>\n",
       "      <td>1277178</td>\n",
       "      <td>10000</td>\n",
       "      <td>10000</td>\n",
       "      <td>10000.0</td>\n",
       "      <td>36 months</td>\n",
       "      <td>13.49%</td>\n",
       "      <td>339.31</td>\n",
       "      <td>C</td>\n",
       "      <td>C1</td>\n",
       "      <td>...</td>\n",
       "      <td>NaN</td>\n",
       "      <td>NaN</td>\n",
       "      <td>NaN</td>\n",
       "      <td>NaN</td>\n",
       "      <td>0.0</td>\n",
       "      <td>0.0</td>\n",
       "      <td>NaN</td>\n",
       "      <td>NaN</td>\n",
       "      <td>NaN</td>\n",
       "      <td>NaN</td>\n",
       "    </tr>\n",
       "    <tr>\n",
       "      <th>4</th>\n",
       "      <td>1075358</td>\n",
       "      <td>1311748</td>\n",
       "      <td>3000</td>\n",
       "      <td>3000</td>\n",
       "      <td>3000.0</td>\n",
       "      <td>60 months</td>\n",
       "      <td>12.69%</td>\n",
       "      <td>67.79</td>\n",
       "      <td>B</td>\n",
       "      <td>B5</td>\n",
       "      <td>...</td>\n",
       "      <td>NaN</td>\n",
       "      <td>NaN</td>\n",
       "      <td>NaN</td>\n",
       "      <td>NaN</td>\n",
       "      <td>0.0</td>\n",
       "      <td>0.0</td>\n",
       "      <td>NaN</td>\n",
       "      <td>NaN</td>\n",
       "      <td>NaN</td>\n",
       "      <td>NaN</td>\n",
       "    </tr>\n",
       "  </tbody>\n",
       "</table>\n",
       "<p>5 rows × 111 columns</p>\n",
       "</div>"
      ],
      "text/plain": [
       "        id  member_id  loan_amnt  funded_amnt  funded_amnt_inv        term  \\\n",
       "0  1077501    1296599       5000         5000           4975.0   36 months   \n",
       "1  1077430    1314167       2500         2500           2500.0   60 months   \n",
       "2  1077175    1313524       2400         2400           2400.0   36 months   \n",
       "3  1076863    1277178      10000        10000          10000.0   36 months   \n",
       "4  1075358    1311748       3000         3000           3000.0   60 months   \n",
       "\n",
       "  int_rate  installment grade sub_grade  ... num_tl_90g_dpd_24m  \\\n",
       "0   10.65%       162.87     B        B2  ...                NaN   \n",
       "1   15.27%        59.83     C        C4  ...                NaN   \n",
       "2   15.96%        84.33     C        C5  ...                NaN   \n",
       "3   13.49%       339.31     C        C1  ...                NaN   \n",
       "4   12.69%        67.79     B        B5  ...                NaN   \n",
       "\n",
       "  num_tl_op_past_12m pct_tl_nvr_dlq  percent_bc_gt_75 pub_rec_bankruptcies  \\\n",
       "0                NaN            NaN               NaN                  0.0   \n",
       "1                NaN            NaN               NaN                  0.0   \n",
       "2                NaN            NaN               NaN                  0.0   \n",
       "3                NaN            NaN               NaN                  0.0   \n",
       "4                NaN            NaN               NaN                  0.0   \n",
       "\n",
       "  tax_liens tot_hi_cred_lim total_bal_ex_mort total_bc_limit  \\\n",
       "0       0.0             NaN               NaN            NaN   \n",
       "1       0.0             NaN               NaN            NaN   \n",
       "2       0.0             NaN               NaN            NaN   \n",
       "3       0.0             NaN               NaN            NaN   \n",
       "4       0.0             NaN               NaN            NaN   \n",
       "\n",
       "  total_il_high_credit_limit  \n",
       "0                        NaN  \n",
       "1                        NaN  \n",
       "2                        NaN  \n",
       "3                        NaN  \n",
       "4                        NaN  \n",
       "\n",
       "[5 rows x 111 columns]"
      ]
     },
     "execution_count": 21,
     "metadata": {},
     "output_type": "execute_result"
    }
   ],
   "source": [
    "df.head()"
   ]
  },
  {
   "cell_type": "code",
   "execution_count": 23,
   "metadata": {},
   "outputs": [
    {
     "name": "stdout",
     "output_type": "stream",
     "text": [
      "Shape of dataframe (39717, 111)\n"
     ]
    },
    {
     "data": {
      "text/plain": [
       "39717"
      ]
     },
     "execution_count": 23,
     "metadata": {},
     "output_type": "execute_result"
    }
   ],
   "source": [
    "# Get the shape of the dataframe\n",
    "print(f'Shape of dataframe {df.shape}')\n"
   ]
  },
  {
   "cell_type": "code",
   "execution_count": 27,
   "metadata": {},
   "outputs": [
    {
     "name": "stdout",
     "output_type": "stream",
     "text": [
      "Shape of dataframe (39717, 111)\n",
      "id have 0 null values\n",
      "member_id have 0 null values\n",
      "loan_amnt have 0 null values\n",
      "funded_amnt have 0 null values\n",
      "funded_amnt_inv have 0 null values\n",
      "term have 0 null values\n",
      "int_rate have 0 null values\n",
      "installment have 0 null values\n",
      "grade have 0 null values\n",
      "sub_grade have 0 null values\n",
      "emp_title have 2459 null values\n",
      "emp_length have 1075 null values\n",
      "home_ownership have 0 null values\n",
      "annual_inc have 0 null values\n",
      "verification_status have 0 null values\n",
      "issue_d have 0 null values\n",
      "loan_status have 0 null values\n",
      "pymnt_plan have 0 null values\n",
      "url have 0 null values\n",
      "desc have 12942 null values\n",
      "purpose have 0 null values\n",
      "title have 11 null values\n",
      "zip_code have 0 null values\n",
      "addr_state have 0 null values\n",
      "dti have 0 null values\n",
      "delinq_2yrs have 0 null values\n",
      "earliest_cr_line have 0 null values\n",
      "inq_last_6mths have 0 null values\n",
      "mths_since_last_delinq have 25682 null values\n",
      "mths_since_last_record have 36931 null values\n",
      "open_acc have 0 null values\n",
      "pub_rec have 0 null values\n",
      "revol_bal have 0 null values\n",
      "revol_util have 50 null values\n",
      "total_acc have 0 null values\n",
      "initial_list_status have 0 null values\n",
      "out_prncp have 0 null values\n",
      "out_prncp_inv have 0 null values\n",
      "total_pymnt have 0 null values\n",
      "total_pymnt_inv have 0 null values\n",
      "total_rec_prncp have 0 null values\n",
      "total_rec_int have 0 null values\n",
      "total_rec_late_fee have 0 null values\n",
      "recoveries have 0 null values\n",
      "collection_recovery_fee have 0 null values\n",
      "last_pymnt_d have 71 null values\n",
      "last_pymnt_amnt have 0 null values\n",
      "next_pymnt_d have 38577 null values\n",
      "last_credit_pull_d have 2 null values\n",
      "collections_12_mths_ex_med have 56 null values\n",
      "mths_since_last_major_derog have 39717 null values\n",
      "policy_code have 0 null values\n",
      "application_type have 0 null values\n",
      "annual_inc_joint have 39717 null values\n",
      "dti_joint have 39717 null values\n",
      "verification_status_joint have 39717 null values\n",
      "acc_now_delinq have 0 null values\n",
      "tot_coll_amt have 39717 null values\n",
      "tot_cur_bal have 39717 null values\n",
      "open_acc_6m have 39717 null values\n",
      "open_il_6m have 39717 null values\n",
      "open_il_12m have 39717 null values\n",
      "open_il_24m have 39717 null values\n",
      "mths_since_rcnt_il have 39717 null values\n",
      "total_bal_il have 39717 null values\n",
      "il_util have 39717 null values\n",
      "open_rv_12m have 39717 null values\n",
      "open_rv_24m have 39717 null values\n",
      "max_bal_bc have 39717 null values\n",
      "all_util have 39717 null values\n",
      "total_rev_hi_lim have 39717 null values\n",
      "inq_fi have 39717 null values\n",
      "total_cu_tl have 39717 null values\n",
      "inq_last_12m have 39717 null values\n",
      "acc_open_past_24mths have 39717 null values\n",
      "avg_cur_bal have 39717 null values\n",
      "bc_open_to_buy have 39717 null values\n",
      "bc_util have 39717 null values\n",
      "chargeoff_within_12_mths have 56 null values\n",
      "delinq_amnt have 0 null values\n",
      "mo_sin_old_il_acct have 39717 null values\n",
      "mo_sin_old_rev_tl_op have 39717 null values\n",
      "mo_sin_rcnt_rev_tl_op have 39717 null values\n",
      "mo_sin_rcnt_tl have 39717 null values\n",
      "mort_acc have 39717 null values\n",
      "mths_since_recent_bc have 39717 null values\n",
      "mths_since_recent_bc_dlq have 39717 null values\n",
      "mths_since_recent_inq have 39717 null values\n",
      "mths_since_recent_revol_delinq have 39717 null values\n",
      "num_accts_ever_120_pd have 39717 null values\n",
      "num_actv_bc_tl have 39717 null values\n",
      "num_actv_rev_tl have 39717 null values\n",
      "num_bc_sats have 39717 null values\n",
      "num_bc_tl have 39717 null values\n",
      "num_il_tl have 39717 null values\n",
      "num_op_rev_tl have 39717 null values\n",
      "num_rev_accts have 39717 null values\n",
      "num_rev_tl_bal_gt_0 have 39717 null values\n",
      "num_sats have 39717 null values\n",
      "num_tl_120dpd_2m have 39717 null values\n",
      "num_tl_30dpd have 39717 null values\n",
      "num_tl_90g_dpd_24m have 39717 null values\n",
      "num_tl_op_past_12m have 39717 null values\n",
      "pct_tl_nvr_dlq have 39717 null values\n",
      "percent_bc_gt_75 have 39717 null values\n",
      "pub_rec_bankruptcies have 697 null values\n",
      "tax_liens have 39 null values\n",
      "tot_hi_cred_lim have 39717 null values\n",
      "total_bal_ex_mort have 39717 null values\n",
      "total_bc_limit have 39717 null values\n",
      "total_il_high_credit_limit have 39717 null values\n",
      "mths_since_last_major_derog can be dropped\n",
      "annual_inc_joint can be dropped\n",
      "dti_joint can be dropped\n",
      "verification_status_joint can be dropped\n",
      "tot_coll_amt can be dropped\n",
      "tot_cur_bal can be dropped\n",
      "open_acc_6m can be dropped\n",
      "open_il_6m can be dropped\n",
      "open_il_12m can be dropped\n",
      "open_il_24m can be dropped\n",
      "mths_since_rcnt_il can be dropped\n",
      "total_bal_il can be dropped\n",
      "il_util can be dropped\n",
      "open_rv_12m can be dropped\n",
      "open_rv_24m can be dropped\n",
      "max_bal_bc can be dropped\n",
      "all_util can be dropped\n",
      "total_rev_hi_lim can be dropped\n",
      "inq_fi can be dropped\n",
      "total_cu_tl can be dropped\n",
      "inq_last_12m can be dropped\n",
      "acc_open_past_24mths can be dropped\n",
      "avg_cur_bal can be dropped\n",
      "bc_open_to_buy can be dropped\n",
      "bc_util can be dropped\n",
      "mo_sin_old_il_acct can be dropped\n",
      "mo_sin_old_rev_tl_op can be dropped\n",
      "mo_sin_rcnt_rev_tl_op can be dropped\n",
      "mo_sin_rcnt_tl can be dropped\n",
      "mort_acc can be dropped\n",
      "mths_since_recent_bc can be dropped\n",
      "mths_since_recent_bc_dlq can be dropped\n",
      "mths_since_recent_inq can be dropped\n",
      "mths_since_recent_revol_delinq can be dropped\n",
      "num_accts_ever_120_pd can be dropped\n",
      "num_actv_bc_tl can be dropped\n",
      "num_actv_rev_tl can be dropped\n",
      "num_bc_sats can be dropped\n",
      "num_bc_tl can be dropped\n",
      "num_il_tl can be dropped\n",
      "num_op_rev_tl can be dropped\n",
      "num_rev_accts can be dropped\n",
      "num_rev_tl_bal_gt_0 can be dropped\n",
      "num_sats can be dropped\n",
      "num_tl_120dpd_2m can be dropped\n",
      "num_tl_30dpd can be dropped\n",
      "num_tl_90g_dpd_24m can be dropped\n",
      "num_tl_op_past_12m can be dropped\n",
      "pct_tl_nvr_dlq can be dropped\n",
      "percent_bc_gt_75 can be dropped\n",
      "tot_hi_cred_lim can be dropped\n",
      "total_bal_ex_mort can be dropped\n",
      "total_bc_limit can be dropped\n",
      "total_il_high_credit_limit can be dropped\n",
      "Total columns dropped are 54\n",
      "About 49 % columns are dropped from Dataframe\n"
     ]
    }
   ],
   "source": [
    "## 1. Find Columns which are completely null and then drop them\n",
    "\n",
    "print(f'Shape of dataframe {df.shape}')\n",
    "for col in df.columns:\n",
    "    print(f'{col} have {df[col].isna().sum()} null values')\n",
    "\n",
    "## Identify columns which are having all null values\n",
    "dropped_cols=0\n",
    "for col in df.columns:\n",
    "    if df[col].isna().sum() == len(df):\n",
    "        print(f'{col} can be dropped')\n",
    "        dropped_cols+=1\n",
    "\n",
    "print(f'Total columns dropped are {dropped_cols}')\n",
    "print(f'About {round(dropped_cols*100/df.shape[1])} % columns are dropped from Dataframe')\n",
    "\n",
    "\n"
   ]
  },
  {
   "cell_type": "code",
   "execution_count": 29,
   "metadata": {},
   "outputs": [],
   "source": [
    "## Identify columns which have all values as null\n",
    "\n",
    "df.dropna(axis=1, how='all', inplace=True) # Drops columns which have all null values. Dataset is now reduced to 39717 rows and 57 columns\n"
   ]
  },
  {
   "cell_type": "code",
   "execution_count": 32,
   "metadata": {},
   "outputs": [
    {
     "data": {
      "text/plain": [
       "(39717, 57)"
      ]
     },
     "execution_count": 32,
     "metadata": {},
     "output_type": "execute_result"
    }
   ],
   "source": [
    "df.shape"
   ]
  },
  {
   "cell_type": "code",
   "execution_count": 36,
   "metadata": {},
   "outputs": [
    {
     "data": {
      "text/plain": [
       "39717"
      ]
     },
     "execution_count": 36,
     "metadata": {},
     "output_type": "execute_result"
    }
   ],
   "source": [
    "len(df)"
   ]
  },
  {
   "cell_type": "code",
   "execution_count": null,
   "metadata": {},
   "outputs": [
    {
     "name": "stdout",
     "output_type": "stream",
     "text": [
      "Shape of dataframe (39717, 57)\n",
      "mths_since_last_delinq have 25682 null values\n",
      "mths_since_last_record have 36931 null values\n",
      "next_pymnt_d have 38577 null values\n"
     ]
    }
   ],
   "source": [
    "# 2. Find Columns which have 50% null. Drop them\n",
    "\n",
    "print(f'Shape of dataframe {df.shape}')\n",
    "for col in df.columns:\n",
    "    if df[col].isna().sum() > len(df)*0.5:\n",
    "        print(f'{col} have {df[col].isna().sum()} null values')\n",
    "        "
   ]
  },
  {
   "cell_type": "code",
   "execution_count": 45,
   "metadata": {},
   "outputs": [],
   "source": [
    "df.drop(['mths_since_last_delinq','mths_since_last_record','next_pymnt_d'], axis=1, inplace=True)"
   ]
  },
  {
   "cell_type": "code",
   "execution_count": 46,
   "metadata": {},
   "outputs": [
    {
     "data": {
      "text/plain": [
       "(39717, 54)"
      ]
     },
     "execution_count": 46,
     "metadata": {},
     "output_type": "execute_result"
    }
   ],
   "source": [
    "df.shape"
   ]
  },
  {
   "cell_type": "code",
   "execution_count": 50,
   "metadata": {},
   "outputs": [
    {
     "data": {
      "text/plain": [
       "id                              int64\n",
       "member_id                       int64\n",
       "loan_amnt                       int64\n",
       "funded_amnt                     int64\n",
       "funded_amnt_inv               float64\n",
       "term                           object\n",
       "int_rate                       object\n",
       "installment                   float64\n",
       "grade                          object\n",
       "sub_grade                      object\n",
       "emp_length                     object\n",
       "home_ownership                 object\n",
       "annual_inc                    float64\n",
       "verification_status            object\n",
       "issue_d                        object\n",
       "loan_status                    object\n",
       "pymnt_plan                     object\n",
       "url                            object\n",
       "desc                           object\n",
       "purpose                        object\n",
       "title                          object\n",
       "zip_code                       object\n",
       "addr_state                     object\n",
       "dti                           float64\n",
       "delinq_2yrs                     int64\n",
       "earliest_cr_line               object\n",
       "inq_last_6mths                  int64\n",
       "open_acc                        int64\n",
       "pub_rec                         int64\n",
       "revol_bal                       int64\n",
       "revol_util                     object\n",
       "total_acc                       int64\n",
       "initial_list_status            object\n",
       "out_prncp                     float64\n",
       "out_prncp_inv                 float64\n",
       "total_pymnt                   float64\n",
       "total_pymnt_inv               float64\n",
       "total_rec_prncp               float64\n",
       "total_rec_int                 float64\n",
       "total_rec_late_fee            float64\n",
       "recoveries                    float64\n",
       "collection_recovery_fee       float64\n",
       "last_pymnt_d                   object\n",
       "last_pymnt_amnt               float64\n",
       "last_credit_pull_d             object\n",
       "collections_12_mths_ex_med    float64\n",
       "policy_code                     int64\n",
       "application_type               object\n",
       "acc_now_delinq                  int64\n",
       "chargeoff_within_12_mths      float64\n",
       "delinq_amnt                     int64\n",
       "pub_rec_bankruptcies          float64\n",
       "tax_liens                     float64\n",
       "dtype: object"
      ]
     },
     "execution_count": 50,
     "metadata": {},
     "output_type": "execute_result"
    }
   ],
   "source": [
    "df.dtypes"
   ]
  },
  {
   "cell_type": "code",
   "execution_count": null,
   "metadata": {},
   "outputs": [],
   "source": [
    "#5. Find columns which do no have any effect on the analysis\n",
    "# emp_title does not have effect in analysis\n",
    "df.drop(['emp_title'], axis=1, inplace=True)"
   ]
  },
  {
   "cell_type": "code",
   "execution_count": null,
   "metadata": {},
   "outputs": [],
   "source": [
    "# desc does not have effect in analysis\n",
    "df.drop(['desc'], axis=1, inplace=True)"
   ]
  },
  {
   "cell_type": "code",
   "execution_count": null,
   "metadata": {},
   "outputs": [],
   "source": [
    "# title does not have effect in analysis\n",
    "df.drop(['title'], axis=1, inplace=True)"
   ]
  },
  {
   "cell_type": "code",
   "execution_count": null,
   "metadata": {},
   "outputs": [],
   "source": [
    "# url does not have effect in analysis\n",
    "df.drop(['url'], axis=1, inplace=True)"
   ]
  },
  {
   "cell_type": "code",
   "execution_count": 60,
   "metadata": {},
   "outputs": [
    {
     "data": {
      "text/plain": [
       "(39717, 50)"
      ]
     },
     "execution_count": 60,
     "metadata": {},
     "output_type": "execute_result"
    }
   ],
   "source": [
    "df.shape"
   ]
  },
  {
   "cell_type": "code",
   "execution_count": 62,
   "metadata": {},
   "outputs": [
    {
     "data": {
      "text/plain": [
       "array(['10+ years', '< 1 year', '1 year', '3 years', '8 years', '9 years',\n",
       "       '4 years', '5 years', '6 years', '2 years', '7 years', nan],\n",
       "      dtype=object)"
      ]
     },
     "execution_count": 62,
     "metadata": {},
     "output_type": "execute_result"
    }
   ],
   "source": [
    "df['emp_length'].unique()"
   ]
  },
  {
   "cell_type": "code",
   "execution_count": null,
   "metadata": {},
   "outputs": [],
   "source": [
    "# 6. Identify the columns which needs adjustments in datatype. May be string manipulation or ommisson is required.\n",
    "# Adjust the emp_length with integer values\n",
    "def adjust_emp_length(empyear):\n",
    "    if pd.isna(empyear):\n",
    "        return empyear\n",
    "    elif empyear =='< 1 year':\n",
    "        return 0\n",
    "    elif empyear =='1 year':\n",
    "        return 1\n",
    "    elif empyear == '10+ years':\n",
    "        return 10\n",
    "    elif 'years' in empyear:\n",
    "        return int(empyear.split()[0])\n",
    "    else:\n",
    "        return empyear\n",
    "    \n",
    "df['emp_length'] = df['emp_length'].apply(func=adjust_emp_length)\n",
    "    "
   ]
  },
  {
   "cell_type": "code",
   "execution_count": 81,
   "metadata": {},
   "outputs": [
    {
     "data": {
      "text/plain": [
       "array([10.,  0.,  1.,  3.,  8.,  9.,  4.,  5.,  6.,  2.,  7., nan])"
      ]
     },
     "execution_count": 81,
     "metadata": {},
     "output_type": "execute_result"
    }
   ],
   "source": [
    "df['emp_length'].unique()"
   ]
  },
  {
   "cell_type": "code",
   "execution_count": 85,
   "metadata": {},
   "outputs": [
    {
     "name": "stdout",
     "output_type": "stream",
     "text": [
      "<class 'pandas.core.series.Series'>\n",
      "RangeIndex: 39717 entries, 0 to 39716\n",
      "Series name: emp_length\n",
      "Non-Null Count  Dtype  \n",
      "--------------  -----  \n",
      "38642 non-null  float64\n",
      "dtypes: float64(1)\n",
      "memory usage: 310.4 KB\n"
     ]
    }
   ],
   "source": [
    "# 1075 rows are Null values. We can safely inpute the values.\n",
    "df['emp_length'].info()"
   ]
  },
  {
   "cell_type": "code",
   "execution_count": 86,
   "metadata": {},
   "outputs": [
    {
     "data": {
      "text/plain": [
       "emp_length\n",
       "10.0    8879\n",
       "0.0     4583\n",
       "2.0     4388\n",
       "3.0     4095\n",
       "4.0     3436\n",
       "5.0     3282\n",
       "1.0     3240\n",
       "6.0     2229\n",
       "7.0     1773\n",
       "8.0     1479\n",
       "9.0     1258\n",
       "Name: count, dtype: int64"
      ]
     },
     "execution_count": 86,
     "metadata": {},
     "output_type": "execute_result"
    }
   ],
   "source": [
    "df['emp_length'].value_counts()"
   ]
  },
  {
   "cell_type": "code",
   "execution_count": 97,
   "metadata": {},
   "outputs": [],
   "source": [
    "#Considering that 10 is value which is for around 25% of the values so we can impute the value 10 to null value.\n",
    "df['emp_length'].fillna(10, inplace=True)\n",
    "df['emp_length']=df['emp_length'].astype(dtype='Int64')"
   ]
  },
  {
   "cell_type": "code",
   "execution_count": 98,
   "metadata": {},
   "outputs": [
    {
     "data": {
      "text/plain": [
       "emp_length\n",
       "10    9954\n",
       "0     4583\n",
       "2     4388\n",
       "3     4095\n",
       "4     3436\n",
       "5     3282\n",
       "1     3240\n",
       "6     2229\n",
       "7     1773\n",
       "8     1479\n",
       "9     1258\n",
       "Name: count, dtype: Int64"
      ]
     },
     "execution_count": 98,
     "metadata": {},
     "output_type": "execute_result"
    }
   ],
   "source": [
    "df['emp_length'].value_counts()"
   ]
  },
  {
   "cell_type": "code",
   "execution_count": 99,
   "metadata": {},
   "outputs": [
    {
     "data": {
      "text/plain": [
       "id                              int64\n",
       "member_id                       int64\n",
       "loan_amnt                       int64\n",
       "funded_amnt                     int64\n",
       "funded_amnt_inv               float64\n",
       "term                           object\n",
       "int_rate                       object\n",
       "installment                   float64\n",
       "grade                          object\n",
       "sub_grade                      object\n",
       "emp_length                      Int64\n",
       "home_ownership                 object\n",
       "annual_inc                    float64\n",
       "verification_status            object\n",
       "issue_d                        object\n",
       "loan_status                    object\n",
       "pymnt_plan                     object\n",
       "purpose                        object\n",
       "zip_code                       object\n",
       "addr_state                     object\n",
       "dti                           float64\n",
       "delinq_2yrs                     int64\n",
       "earliest_cr_line               object\n",
       "inq_last_6mths                  int64\n",
       "open_acc                        int64\n",
       "pub_rec                         int64\n",
       "revol_bal                       int64\n",
       "revol_util                     object\n",
       "total_acc                       int64\n",
       "initial_list_status            object\n",
       "out_prncp                     float64\n",
       "out_prncp_inv                 float64\n",
       "total_pymnt                   float64\n",
       "total_pymnt_inv               float64\n",
       "total_rec_prncp               float64\n",
       "total_rec_int                 float64\n",
       "total_rec_late_fee            float64\n",
       "recoveries                    float64\n",
       "collection_recovery_fee       float64\n",
       "last_pymnt_d                   object\n",
       "last_pymnt_amnt               float64\n",
       "last_credit_pull_d             object\n",
       "collections_12_mths_ex_med    float64\n",
       "policy_code                     int64\n",
       "application_type               object\n",
       "acc_now_delinq                  int64\n",
       "chargeoff_within_12_mths      float64\n",
       "delinq_amnt                     int64\n",
       "pub_rec_bankruptcies          float64\n",
       "tax_liens                     float64\n",
       "dtype: object"
      ]
     },
     "execution_count": 99,
     "metadata": {},
     "output_type": "execute_result"
    }
   ],
   "source": [
    "df.dtypes"
   ]
  },
  {
   "cell_type": "code",
   "execution_count": 100,
   "metadata": {},
   "outputs": [
    {
     "data": {
      "text/plain": [
       "array([' 36 months', ' 60 months'], dtype=object)"
      ]
     },
     "execution_count": 100,
     "metadata": {},
     "output_type": "execute_result"
    }
   ],
   "source": [
    "\n",
    "df['term'].unique()"
   ]
  },
  {
   "cell_type": "code",
   "execution_count": null,
   "metadata": {},
   "outputs": [],
   "source": [
    "# 6. Identify the columns which needs adjustments in datatype. May be string manipulation or ommisson is required.\n",
    "df['term'] = df['term'].apply(lambda x : int(x.split()[0]))"
   ]
  },
  {
   "cell_type": "code",
   "execution_count": 114,
   "metadata": {},
   "outputs": [
    {
     "data": {
      "text/plain": [
       "array(['10.65%', '15.27%', '15.96%', '13.49%', '7.90%', '18.64%',\n",
       "       '21.28%', '12.69%', '14.65%', '9.91%', '16.29%', '6.03%', '11.71%',\n",
       "       '12.42%', '14.27%', '16.77%', '7.51%', '8.90%', '18.25%', '6.62%',\n",
       "       '19.91%', '17.27%', '17.58%', '21.67%', '19.42%', '20.89%',\n",
       "       '20.30%', '23.91%', '19.03%', '23.13%', '22.74%', '22.35%',\n",
       "       '22.06%', '24.11%', '6.00%', '23.52%', '22.11%', '7.49%', '11.99%',\n",
       "       '5.99%', '10.99%', '9.99%', '18.79%', '11.49%', '8.49%', '15.99%',\n",
       "       '16.49%', '6.99%', '12.99%', '15.23%', '14.79%', '5.42%', '10.59%',\n",
       "       '17.49%', '15.62%', '19.29%', '13.99%', '18.39%', '16.89%',\n",
       "       '17.99%', '20.99%', '22.85%', '19.69%', '20.62%', '20.25%',\n",
       "       '21.36%', '23.22%', '21.74%', '22.48%', '23.59%', '12.62%',\n",
       "       '18.07%', '11.63%', '7.91%', '7.42%', '11.14%', '20.20%', '12.12%',\n",
       "       '19.39%', '16.11%', '17.54%', '22.64%', '13.84%', '16.59%',\n",
       "       '17.19%', '12.87%', '20.69%', '9.67%', '21.82%', '19.79%',\n",
       "       '18.49%', '22.94%', '24.40%', '21.48%', '14.82%', '14.17%',\n",
       "       '7.29%', '17.88%', '20.11%', '16.02%', '13.43%', '14.91%',\n",
       "       '13.06%', '15.28%', '15.65%', '17.14%', '11.11%', '10.37%',\n",
       "       '16.40%', '17.51%', '7.66%', '18.62%', '10.74%', '5.79%', '6.92%',\n",
       "       '10.00%', '9.63%', '14.54%', '12.68%', '19.36%', '13.80%',\n",
       "       '18.99%', '21.59%', '20.85%', '21.22%', '19.74%', '20.48%',\n",
       "       '6.91%', '12.23%', '12.61%', '10.36%', '6.17%', '6.54%', '9.25%',\n",
       "       '16.69%', '15.95%', '8.88%', '13.35%', '9.62%', '16.32%', '12.98%',\n",
       "       '14.83%', '13.72%', '14.09%', '14.46%', '20.03%', '17.80%',\n",
       "       '15.20%', '15.57%', '18.54%', '19.66%', '17.06%', '18.17%',\n",
       "       '17.43%', '20.40%', '20.77%', '18.91%', '21.14%', '17.44%',\n",
       "       '13.23%', '7.88%', '11.12%', '13.61%', '10.38%', '17.56%',\n",
       "       '17.93%', '15.58%', '13.98%', '14.84%', '15.21%', '6.76%', '6.39%',\n",
       "       '11.86%', '7.14%', '14.35%', '16.82%', '10.75%', '14.72%',\n",
       "       '16.45%', '18.67%', '20.53%', '19.41%', '20.16%', '21.27%',\n",
       "       '18.30%', '19.04%', '20.90%', '21.64%', '12.73%', '10.25%',\n",
       "       '13.11%', '10.62%', '13.48%', '14.59%', '16.07%', '15.70%',\n",
       "       '9.88%', '11.36%', '15.33%', '13.85%', '14.96%', '14.22%', '7.74%',\n",
       "       '13.22%', '13.57%', '8.59%', '17.04%', '14.61%', '8.94%', '12.18%',\n",
       "       '11.83%', '11.48%', '16.35%', '13.92%', '15.31%', '14.26%',\n",
       "       '19.13%', '12.53%', '16.70%', '16.00%', '17.39%', '18.09%',\n",
       "       '7.40%', '18.43%', '17.74%', '7.05%', '20.52%', '20.86%', '19.47%',\n",
       "       '18.78%', '21.21%', '19.82%', '20.17%', '13.16%', '8.00%',\n",
       "       '13.47%', '12.21%', '16.63%', '9.32%', '12.84%', '11.26%',\n",
       "       '15.68%', '15.37%', '10.95%', '11.89%', '14.11%', '13.79%',\n",
       "       '7.68%', '11.58%', '7.37%', '16.95%', '15.05%', '18.53%', '14.74%',\n",
       "       '14.42%', '18.21%', '17.26%', '18.84%', '17.90%', '19.16%',\n",
       "       '13.67%', '9.38%', '12.72%', '13.36%', '11.46%', '10.51%', '9.07%',\n",
       "       '13.04%', '11.78%', '12.41%', '10.83%', '12.09%', '17.46%',\n",
       "       '14.30%', '17.15%', '15.25%', '10.20%', '15.88%', '14.93%',\n",
       "       '16.20%', '18.72%', '14.62%', '8.32%', '14.12%', '10.96%',\n",
       "       '10.33%', '10.01%', '12.86%', '11.28%', '11.59%', '8.63%',\n",
       "       '12.54%', '12.22%', '11.91%', '15.38%', '16.96%', '13.17%',\n",
       "       '9.70%', '16.33%', '14.75%', '15.07%', '16.01%', '10.71%',\n",
       "       '10.64%', '9.76%', '11.34%', '10.39%', '13.87%', '11.03%',\n",
       "       '11.66%', '13.24%', '10.08%', '9.45%', '13.55%', '12.29%',\n",
       "       '11.97%', '12.92%', '15.45%', '14.50%', '14.18%', '15.13%',\n",
       "       '16.08%', '15.76%', '17.03%', '17.34%', '16.71%', '9.83%',\n",
       "       '13.62%', '10.46%', '9.51%', '9.20%', '13.30%', '10.78%', '7.75%',\n",
       "       '8.38%', '12.36%', '12.67%', '11.72%', '13.93%', '8.07%', '7.43%',\n",
       "       '12.04%', '14.25%', '14.88%', '11.41%', '11.09%', '10.14%',\n",
       "       '16.15%', '15.83%', '7.12%', '18.36%', '9.64%', '9.96%', '11.22%',\n",
       "       '9.01%', '9.33%', '11.54%', '12.17%', '12.80%', '14.38%', '13.75%',\n",
       "       '14.70%', '12.49%', '14.07%', '10.91%', '13.12%', '10.28%',\n",
       "       '8.70%', '14.67%', '15.01%'], dtype=object)"
      ]
     },
     "execution_count": 114,
     "metadata": {},
     "output_type": "execute_result"
    }
   ],
   "source": [
    "df['int_rate'].unique()"
   ]
  },
  {
   "cell_type": "code",
   "execution_count": 117,
   "metadata": {},
   "outputs": [
    {
     "name": "stderr",
     "output_type": "stream",
     "text": [
      "/var/folders/_1/j7jqjd896yb00t516lkn5j280000gn/T/ipykernel_1426/3946507222.py:1: SettingWithCopyWarning: \n",
      "A value is trying to be set on a copy of a slice from a DataFrame.\n",
      "Try using .loc[row_indexer,col_indexer] = value instead\n",
      "\n",
      "See the caveats in the documentation: https://pandas.pydata.org/pandas-docs/stable/user_guide/indexing.html#returning-a-view-versus-a-copy\n",
      "  df['int_rate']=df['int_rate'].apply(lambda x : float(x.split('%')[0]))\n"
     ]
    }
   ],
   "source": [
    "df['int_rate']=df['int_rate'].apply(lambda x : float(x.split('%')[0]))"
   ]
  },
  {
   "cell_type": "code",
   "execution_count": 118,
   "metadata": {},
   "outputs": [
    {
     "data": {
      "text/plain": [
       "id                              int64\n",
       "member_id                       int64\n",
       "loan_amnt                       int64\n",
       "funded_amnt                     int64\n",
       "funded_amnt_inv               float64\n",
       "term                            int64\n",
       "int_rate                      float64\n",
       "installment                   float64\n",
       "grade                          object\n",
       "sub_grade                      object\n",
       "emp_length                      Int64\n",
       "home_ownership                 object\n",
       "annual_inc                    float64\n",
       "verification_status            object\n",
       "issue_d                        object\n",
       "loan_status                    object\n",
       "pymnt_plan                     object\n",
       "purpose                        object\n",
       "zip_code                       object\n",
       "addr_state                     object\n",
       "dti                           float64\n",
       "delinq_2yrs                     int64\n",
       "earliest_cr_line               object\n",
       "inq_last_6mths                  int64\n",
       "open_acc                        int64\n",
       "pub_rec                         int64\n",
       "revol_bal                       int64\n",
       "revol_util                     object\n",
       "total_acc                       int64\n",
       "initial_list_status            object\n",
       "out_prncp                     float64\n",
       "out_prncp_inv                 float64\n",
       "total_pymnt                   float64\n",
       "total_pymnt_inv               float64\n",
       "total_rec_prncp               float64\n",
       "total_rec_int                 float64\n",
       "total_rec_late_fee            float64\n",
       "recoveries                    float64\n",
       "collection_recovery_fee       float64\n",
       "last_pymnt_d                   object\n",
       "last_pymnt_amnt               float64\n",
       "last_credit_pull_d             object\n",
       "collections_12_mths_ex_med    float64\n",
       "policy_code                     int64\n",
       "application_type               object\n",
       "acc_now_delinq                  int64\n",
       "chargeoff_within_12_mths      float64\n",
       "delinq_amnt                     int64\n",
       "pub_rec_bankruptcies          float64\n",
       "tax_liens                     float64\n",
       "dtype: object"
      ]
     },
     "execution_count": 118,
     "metadata": {},
     "output_type": "execute_result"
    }
   ],
   "source": [
    "df.dtypes"
   ]
  },
  {
   "cell_type": "code",
   "execution_count": 121,
   "metadata": {},
   "outputs": [
    {
     "data": {
      "text/plain": [
       "array(['Dec-11', 'Nov-11', 'Oct-11', 'Sep-11', 'Aug-11', 'Jul-11',\n",
       "       'Jun-11', 'May-11', 'Apr-11', 'Mar-11', 'Feb-11', 'Jan-11',\n",
       "       'Dec-10', 'Nov-10', 'Oct-10', 'Sep-10', 'Aug-10', 'Jul-10',\n",
       "       'Jun-10', 'May-10', 'Apr-10', 'Mar-10', 'Feb-10', 'Jan-10',\n",
       "       'Dec-09', 'Nov-09', 'Oct-09', 'Sep-09', 'Aug-09', 'Jul-09',\n",
       "       'Jun-09', 'May-09', 'Apr-09', 'Mar-09', 'Feb-09', 'Jan-09',\n",
       "       'Dec-08', 'Nov-08', 'Oct-08', 'Sep-08', 'Aug-08', 'Jul-08',\n",
       "       'Jun-08', 'May-08', 'Apr-08', 'Mar-08', 'Feb-08', 'Jan-08',\n",
       "       'Dec-07', 'Nov-07', 'Oct-07', 'Sep-07', 'Aug-07', 'Jul-07',\n",
       "       'Jun-07'], dtype=object)"
      ]
     },
     "execution_count": 121,
     "metadata": {},
     "output_type": "execute_result"
    }
   ],
   "source": [
    "#6. Identify the columns which needs adjustments in datatype. May be string manipulation or ommisson is required.\n",
    "df['issue_d'].unique()"
   ]
  },
  {
   "cell_type": "code",
   "execution_count": 122,
   "metadata": {},
   "outputs": [
    {
     "name": "stderr",
     "output_type": "stream",
     "text": [
      "/var/folders/_1/j7jqjd896yb00t516lkn5j280000gn/T/ipykernel_1426/1080446457.py:1: SettingWithCopyWarning: \n",
      "A value is trying to be set on a copy of a slice from a DataFrame.\n",
      "Try using .loc[row_indexer,col_indexer] = value instead\n",
      "\n",
      "See the caveats in the documentation: https://pandas.pydata.org/pandas-docs/stable/user_guide/indexing.html#returning-a-view-versus-a-copy\n",
      "  df['issue_d']=pd.to_datetime(df['issue_d'], format='%b-%y')\n"
     ]
    }
   ],
   "source": [
    "df['issue_d']=pd.to_datetime(df['issue_d'], format='%b-%y')"
   ]
  },
  {
   "cell_type": "code",
   "execution_count": 123,
   "metadata": {},
   "outputs": [
    {
     "data": {
      "text/plain": [
       "<DatetimeArray>\n",
       "['2011-12-01 00:00:00', '2011-11-01 00:00:00', '2011-10-01 00:00:00',\n",
       " '2011-09-01 00:00:00', '2011-08-01 00:00:00', '2011-07-01 00:00:00',\n",
       " '2011-06-01 00:00:00', '2011-05-01 00:00:00', '2011-04-01 00:00:00',\n",
       " '2011-03-01 00:00:00', '2011-02-01 00:00:00', '2011-01-01 00:00:00',\n",
       " '2010-12-01 00:00:00', '2010-11-01 00:00:00', '2010-10-01 00:00:00',\n",
       " '2010-09-01 00:00:00', '2010-08-01 00:00:00', '2010-07-01 00:00:00',\n",
       " '2010-06-01 00:00:00', '2010-05-01 00:00:00', '2010-04-01 00:00:00',\n",
       " '2010-03-01 00:00:00', '2010-02-01 00:00:00', '2010-01-01 00:00:00',\n",
       " '2009-12-01 00:00:00', '2009-11-01 00:00:00', '2009-10-01 00:00:00',\n",
       " '2009-09-01 00:00:00', '2009-08-01 00:00:00', '2009-07-01 00:00:00',\n",
       " '2009-06-01 00:00:00', '2009-05-01 00:00:00', '2009-04-01 00:00:00',\n",
       " '2009-03-01 00:00:00', '2009-02-01 00:00:00', '2009-01-01 00:00:00',\n",
       " '2008-12-01 00:00:00', '2008-11-01 00:00:00', '2008-10-01 00:00:00',\n",
       " '2008-09-01 00:00:00', '2008-08-01 00:00:00', '2008-07-01 00:00:00',\n",
       " '2008-06-01 00:00:00', '2008-05-01 00:00:00', '2008-04-01 00:00:00',\n",
       " '2008-03-01 00:00:00', '2008-02-01 00:00:00', '2008-01-01 00:00:00',\n",
       " '2007-12-01 00:00:00', '2007-11-01 00:00:00', '2007-10-01 00:00:00',\n",
       " '2007-09-01 00:00:00', '2007-08-01 00:00:00', '2007-07-01 00:00:00',\n",
       " '2007-06-01 00:00:00']\n",
       "Length: 55, dtype: datetime64[ns]"
      ]
     },
     "execution_count": 123,
     "metadata": {},
     "output_type": "execute_result"
    }
   ],
   "source": [
    "df['issue_d'].unique()"
   ]
  },
  {
   "cell_type": "code",
   "execution_count": 108,
   "metadata": {},
   "outputs": [
    {
     "data": {
      "text/plain": [
       "array(['Fully Paid', 'Charged Off', 'Current'], dtype=object)"
      ]
     },
     "execution_count": 108,
     "metadata": {},
     "output_type": "execute_result"
    }
   ],
   "source": [
    "df['loan_status'].unique()"
   ]
  },
  {
   "cell_type": "code",
   "execution_count": null,
   "metadata": {},
   "outputs": [],
   "source": [
    "# 4. Find rows which do not contribute anything to the analysis.\n",
    "df = df[df['loan_status']!='Current']"
   ]
  },
  {
   "cell_type": "code",
   "execution_count": 113,
   "metadata": {},
   "outputs": [
    {
     "data": {
      "text/plain": [
       "(38577, 50)"
      ]
     },
     "execution_count": 113,
     "metadata": {},
     "output_type": "execute_result"
    }
   ],
   "source": [
    "df.shape"
   ]
  },
  {
   "cell_type": "code",
   "execution_count": 124,
   "metadata": {},
   "outputs": [
    {
     "data": {
      "text/plain": [
       "id                                     int64\n",
       "member_id                              int64\n",
       "loan_amnt                              int64\n",
       "funded_amnt                            int64\n",
       "funded_amnt_inv                      float64\n",
       "term                                   int64\n",
       "int_rate                             float64\n",
       "installment                          float64\n",
       "grade                                 object\n",
       "sub_grade                             object\n",
       "emp_length                             Int64\n",
       "home_ownership                        object\n",
       "annual_inc                           float64\n",
       "verification_status                   object\n",
       "issue_d                       datetime64[ns]\n",
       "loan_status                           object\n",
       "pymnt_plan                            object\n",
       "purpose                               object\n",
       "zip_code                              object\n",
       "addr_state                            object\n",
       "dti                                  float64\n",
       "delinq_2yrs                            int64\n",
       "earliest_cr_line                      object\n",
       "inq_last_6mths                         int64\n",
       "open_acc                               int64\n",
       "pub_rec                                int64\n",
       "revol_bal                              int64\n",
       "revol_util                            object\n",
       "total_acc                              int64\n",
       "initial_list_status                   object\n",
       "out_prncp                            float64\n",
       "out_prncp_inv                        float64\n",
       "total_pymnt                          float64\n",
       "total_pymnt_inv                      float64\n",
       "total_rec_prncp                      float64\n",
       "total_rec_int                        float64\n",
       "total_rec_late_fee                   float64\n",
       "recoveries                           float64\n",
       "collection_recovery_fee              float64\n",
       "last_pymnt_d                          object\n",
       "last_pymnt_amnt                      float64\n",
       "last_credit_pull_d                    object\n",
       "collections_12_mths_ex_med           float64\n",
       "policy_code                            int64\n",
       "application_type                      object\n",
       "acc_now_delinq                         int64\n",
       "chargeoff_within_12_mths             float64\n",
       "delinq_amnt                            int64\n",
       "pub_rec_bankruptcies                 float64\n",
       "tax_liens                            float64\n",
       "dtype: object"
      ]
     },
     "execution_count": 124,
     "metadata": {},
     "output_type": "execute_result"
    }
   ],
   "source": [
    "df.dtypes"
   ]
  },
  {
   "cell_type": "code",
   "execution_count": 132,
   "metadata": {},
   "outputs": [
    {
     "name": "stderr",
     "output_type": "stream",
     "text": [
      "/var/folders/_1/j7jqjd896yb00t516lkn5j280000gn/T/ipykernel_1426/63720392.py:1: SettingWithCopyWarning: \n",
      "A value is trying to be set on a copy of a slice from a DataFrame\n",
      "\n",
      "See the caveats in the documentation: https://pandas.pydata.org/pandas-docs/stable/user_guide/indexing.html#returning-a-view-versus-a-copy\n",
      "  df.drop(['pymnt_plan'], inplace=True, axis=1)\n"
     ]
    }
   ],
   "source": [
    "df.drop(['pymnt_plan'], inplace=True, axis=1)"
   ]
  },
  {
   "cell_type": "code",
   "execution_count": 133,
   "metadata": {},
   "outputs": [
    {
     "data": {
      "text/plain": [
       "(38577, 49)"
      ]
     },
     "execution_count": 133,
     "metadata": {},
     "output_type": "execute_result"
    }
   ],
   "source": [
    "df.shape"
   ]
  },
  {
   "cell_type": "code",
   "execution_count": 134,
   "metadata": {},
   "outputs": [
    {
     "data": {
      "text/plain": [
       "id                                     int64\n",
       "member_id                              int64\n",
       "loan_amnt                              int64\n",
       "funded_amnt                            int64\n",
       "funded_amnt_inv                      float64\n",
       "term                                   int64\n",
       "int_rate                             float64\n",
       "installment                          float64\n",
       "grade                                 object\n",
       "sub_grade                             object\n",
       "emp_length                             Int64\n",
       "home_ownership                        object\n",
       "annual_inc                           float64\n",
       "verification_status                   object\n",
       "issue_d                       datetime64[ns]\n",
       "loan_status                           object\n",
       "purpose                               object\n",
       "zip_code                              object\n",
       "addr_state                            object\n",
       "dti                                  float64\n",
       "delinq_2yrs                            int64\n",
       "earliest_cr_line                      object\n",
       "inq_last_6mths                         int64\n",
       "open_acc                               int64\n",
       "pub_rec                                int64\n",
       "revol_bal                              int64\n",
       "revol_util                            object\n",
       "total_acc                              int64\n",
       "initial_list_status                   object\n",
       "out_prncp                            float64\n",
       "out_prncp_inv                        float64\n",
       "total_pymnt                          float64\n",
       "total_pymnt_inv                      float64\n",
       "total_rec_prncp                      float64\n",
       "total_rec_int                        float64\n",
       "total_rec_late_fee                   float64\n",
       "recoveries                           float64\n",
       "collection_recovery_fee              float64\n",
       "last_pymnt_d                          object\n",
       "last_pymnt_amnt                      float64\n",
       "last_credit_pull_d                    object\n",
       "collections_12_mths_ex_med           float64\n",
       "policy_code                            int64\n",
       "application_type                      object\n",
       "acc_now_delinq                         int64\n",
       "chargeoff_within_12_mths             float64\n",
       "delinq_amnt                            int64\n",
       "pub_rec_bankruptcies                 float64\n",
       "tax_liens                            float64\n",
       "dtype: object"
      ]
     },
     "execution_count": 134,
     "metadata": {},
     "output_type": "execute_result"
    }
   ],
   "source": [
    "df.dtypes"
   ]
  },
  {
   "cell_type": "code",
   "execution_count": 136,
   "metadata": {},
   "outputs": [
    {
     "name": "stderr",
     "output_type": "stream",
     "text": [
      "/var/folders/_1/j7jqjd896yb00t516lkn5j280000gn/T/ipykernel_1426/2702218246.py:1: SettingWithCopyWarning: \n",
      "A value is trying to be set on a copy of a slice from a DataFrame\n",
      "\n",
      "See the caveats in the documentation: https://pandas.pydata.org/pandas-docs/stable/user_guide/indexing.html#returning-a-view-versus-a-copy\n",
      "  df.drop(['zip_code'], inplace=True, axis=1)\n"
     ]
    }
   ],
   "source": [
    "df.drop(['zip_code'], inplace=True, axis=1)"
   ]
  },
  {
   "cell_type": "code",
   "execution_count": 137,
   "metadata": {},
   "outputs": [
    {
     "data": {
      "text/plain": [
       "(38577, 48)"
      ]
     },
     "execution_count": 137,
     "metadata": {},
     "output_type": "execute_result"
    }
   ],
   "source": [
    "df.shape"
   ]
  },
  {
   "cell_type": "code",
   "execution_count": 138,
   "metadata": {},
   "outputs": [
    {
     "data": {
      "text/plain": [
       "id                                     int64\n",
       "member_id                              int64\n",
       "loan_amnt                              int64\n",
       "funded_amnt                            int64\n",
       "funded_amnt_inv                      float64\n",
       "term                                   int64\n",
       "int_rate                             float64\n",
       "installment                          float64\n",
       "grade                                 object\n",
       "sub_grade                             object\n",
       "emp_length                             Int64\n",
       "home_ownership                        object\n",
       "annual_inc                           float64\n",
       "verification_status                   object\n",
       "issue_d                       datetime64[ns]\n",
       "loan_status                           object\n",
       "purpose                               object\n",
       "addr_state                            object\n",
       "dti                                  float64\n",
       "delinq_2yrs                            int64\n",
       "earliest_cr_line                      object\n",
       "inq_last_6mths                         int64\n",
       "open_acc                               int64\n",
       "pub_rec                                int64\n",
       "revol_bal                              int64\n",
       "revol_util                            object\n",
       "total_acc                              int64\n",
       "initial_list_status                   object\n",
       "out_prncp                            float64\n",
       "out_prncp_inv                        float64\n",
       "total_pymnt                          float64\n",
       "total_pymnt_inv                      float64\n",
       "total_rec_prncp                      float64\n",
       "total_rec_int                        float64\n",
       "total_rec_late_fee                   float64\n",
       "recoveries                           float64\n",
       "collection_recovery_fee              float64\n",
       "last_pymnt_d                          object\n",
       "last_pymnt_amnt                      float64\n",
       "last_credit_pull_d                    object\n",
       "collections_12_mths_ex_med           float64\n",
       "policy_code                            int64\n",
       "application_type                      object\n",
       "acc_now_delinq                         int64\n",
       "chargeoff_within_12_mths             float64\n",
       "delinq_amnt                            int64\n",
       "pub_rec_bankruptcies                 float64\n",
       "tax_liens                            float64\n",
       "dtype: object"
      ]
     },
     "execution_count": 138,
     "metadata": {},
     "output_type": "execute_result"
    }
   ],
   "source": [
    "df.dtypes"
   ]
  },
  {
   "cell_type": "code",
   "execution_count": 140,
   "metadata": {},
   "outputs": [
    {
     "data": {
      "text/plain": [
       "array(['Jan-85', 'Apr-99', 'Nov-01', 'Feb-96', 'Nov-04', 'Jul-05',\n",
       "       'Jan-07', 'Apr-04', 'Sep-04', 'Jan-98', 'Oct-89', 'Jul-03',\n",
       "       'May-91', 'Sep-07', 'Oct-98', 'Aug-93', 'Oct-03', 'Jan-01',\n",
       "       'Nov-97', 'Feb-83', 'Jul-85', 'Apr-03', 'Jun-01', 'Feb-02',\n",
       "       'Aug-84', 'Nov-06', 'Dec-87', 'Nov-81', 'Apr-05', 'Oct-07',\n",
       "       'Dec-00', 'Apr-07', 'Jan-03', 'Mar-94', 'Sep-98', 'Jun-04',\n",
       "       'Nov-95', 'Jul-99', 'Jun-95', 'Sep-92', 'Jan-02', 'Apr-92',\n",
       "       'Oct-06', 'May-00', 'Dec-98', 'Dec-04', 'Oct-00', 'May-02',\n",
       "       'May-06', 'Jul-02', 'Jul-06', 'May-97', 'Oct-05', 'Apr-95',\n",
       "       'Oct-02', 'Jan-00', 'Apr-00', 'Dec-94', 'Sep-05', 'Dec-84',\n",
       "       'Dec-99', 'Nov-03', 'Jun-89', 'Jun-03', 'Oct-96', 'May-03',\n",
       "       'Jun-02', 'Jun-07', 'Dec-96', 'Sep-02', 'Jan-86', 'May-98',\n",
       "       'Jan-97', 'Jun-05', 'Feb-90', 'Mar-04', 'Jul-95', 'Aug-94',\n",
       "       'Jun-92', 'Mar-97', 'Apr-06', 'Apr-90', 'Aug-99', 'Sep-00',\n",
       "       'Feb-01', 'Dec-88', 'Feb-99', 'Dec-91', 'Aug-00', 'Oct-04',\n",
       "       'Aug-04', 'Feb-05', 'Nov-05', 'Nov-00', 'May-07', 'Jan-91',\n",
       "       'Jun-00', 'Aug-06', 'Dec-02', 'Jun-93', 'Jun-06', 'Feb-04',\n",
       "       'Dec-90', 'Mar-00', 'Feb-95', 'Jul-01', 'Apr-02', 'Dec-01',\n",
       "       'Sep-06', 'May-99', 'Aug-98', 'Dec-05', 'May-04', 'Oct-01',\n",
       "       'Jun-83', 'Mar-86', 'Apr-80', 'Jul-04', 'Jul-08', 'May-96',\n",
       "       'Jan-04', 'Nov-02', 'Aug-02', 'Aug-01', 'Mar-91', 'Sep-89',\n",
       "       'Sep-94', 'Sep-03', 'Sep-99', 'Aug-05', 'Dec-86', 'Nov-98',\n",
       "       'Feb-06', 'May-94', 'Nov-07', 'Feb-93', 'Nov-91', 'May-05',\n",
       "       'Mar-90', 'Mar-96', 'Oct-79', 'Jun-81', 'Mar-01', 'Apr-01',\n",
       "       'Jun-99', 'Nov-93', 'Jan-06', 'Dec-97', 'Nov-94', 'Jul-97',\n",
       "       'Oct-91', 'Jun-94', 'Mar-06', 'Sep-96', 'Apr-91', 'Jul-93',\n",
       "       'Jan-95', 'Sep-87', 'Mar-03', 'Oct-99', 'Jul-96', 'Dec-03',\n",
       "       'Aug-88', 'Mar-98', 'Feb-07', 'Dec-92', 'Jul-98', 'Jul-89',\n",
       "       'May-90', 'Jul-94', 'Sep-01', 'Mar-84', 'Nov-99', 'Mar-07',\n",
       "       'Mar-08', 'Apr-94', 'Jan-05', 'Jul-86', 'Aug-90', 'May-92',\n",
       "       'Jul-00', 'Mar-88', 'May-83', 'Apr-93', 'Jul-78', 'Mar-95',\n",
       "       'Feb-00', 'Dec-81', 'Mar-92', 'Jan-81', 'Sep-90', 'Jun-98',\n",
       "       'May-93', 'May-01', 'Nov-96', 'Feb-97', 'Jan-92', 'Mar-02',\n",
       "       'Jan-88', 'Aug-97', 'Aug-87', 'Aug-08', 'Oct-94', 'Feb-94',\n",
       "       'Jun-96', 'Feb-98', 'Nov-08', 'Apr-98', 'Jul-79', 'Jan-93',\n",
       "       'May-87', 'Jul-71', 'Aug-07', 'Jun-97', 'Mar-80', 'Dec-06',\n",
       "       'Jul-07', 'Oct-95', 'Jan-96', 'Jul-91', 'Jul-92', 'Dec-72',\n",
       "       'Dec-93', 'Jan-99', 'Feb-03', 'Apr-97', 'Dec-95', 'Jul-90',\n",
       "       'Mar-70', 'Nov-84', 'Apr-84', 'Jul-84', 'Aug-95', 'Mar-99',\n",
       "       'Sep-88', 'Mar-89', 'Mar-87', 'Oct-97', 'Dec-80', 'Jan-94',\n",
       "       'Aug-03', 'Mar-05', 'Jan-89', 'Apr-96', 'Oct-86', 'Feb-92',\n",
       "       'Jan-90', 'Nov-90', 'Mar-69', 'Jun-75', 'Mar-85', 'Dec-07',\n",
       "       'Sep-95', 'Oct-93', 'Dec-89', 'Sep-80', 'Jun-88', 'May-78',\n",
       "       'Aug-89', 'Oct-90', 'Sep-91', 'Feb-82', 'Feb-87', 'Nov-85',\n",
       "       'Jan-84', 'Jul-88', 'May-08', 'Oct-85', 'Mar-83', 'Aug-91',\n",
       "       'Sep-86', 'Jun-90', 'Feb-86', 'Jun-84', 'Sep-81', 'Apr-86',\n",
       "       'Aug-79', 'Aug-80', 'Nov-92', 'Sep-93', 'Jun-87', 'Feb-84',\n",
       "       'Aug-92', 'Aug-85', 'Jul-83', 'Dec-83', 'Jan-87', 'Nov-78',\n",
       "       'Aug-96', 'Nov-89', 'Sep-76', 'Nov-86', 'Oct-87', 'Sep-08',\n",
       "       'May-77', 'May-86', 'Mar-81', 'Jan-83', 'Sep-79', 'Oct-83',\n",
       "       'Sep-62', 'Jun-85', 'May-82', 'Feb-88', 'Oct-92', 'Aug-83',\n",
       "       'Sep-97', 'Jun-73', 'Apr-85', 'Oct-88', 'Oct-81', 'Sep-68',\n",
       "       'Jul-74', 'Nov-87', 'May-95', 'Feb-91', 'Mar-93', 'Jun-08',\n",
       "       'Jul-80', 'Dec-82', 'Mar-75', 'Oct-84', 'Feb-80', 'Nov-88',\n",
       "       'Apr-88', 'Sep-85', 'Sep-71', 'Mar-78', 'Feb-08', 'Aug-78',\n",
       "       'Nov-70', 'Jun-79', 'Jun-80', 'Apr-89', 'Sep-83', 'Feb-89',\n",
       "       'Oct-82', 'Aug-86', 'Oct-80', 'May-88', 'Dec-85', 'Jan-82',\n",
       "       'Sep-77', 'Dec-76', 'Apr-82', 'May-84', 'Apr-08', 'Feb-79',\n",
       "       'Jan-08', 'Jul-87', 'Jan-78', 'May-89', 'Oct-77', 'Dec-75',\n",
       "       'Oct-08', 'Feb-85', 'Nov-82', 'May-75', 'May-85', 'Feb-71',\n",
       "       'Jun-77', 'Apr-81', 'May-79', 'Jan-72', 'Jun-86', 'Sep-67',\n",
       "       'Apr-78', 'Feb-65', 'Nov-75', 'Jun-67', 'Dec-79', 'Aug-67',\n",
       "       'Apr-71', 'Sep-84', 'Aug-82', 'May-81', 'Dec-70', 'Oct-73',\n",
       "       'Jan-71', 'Dec-63', 'Apr-74', 'Jan-80', 'Aug-69', 'Apr-75',\n",
       "       'Jul-77', 'Mar-77', 'Nov-69', 'Jan-76', 'Nov-83', 'Mar-82',\n",
       "       'Apr-87', 'Dec-69', 'May-74', 'Aug-74', 'Jun-91', 'Jun-72',\n",
       "       'Mar-63', 'Jul-72', 'Aug-75', 'Sep-82', 'Sep-74', 'Aug-81',\n",
       "       'Nov-76', 'May-73', 'Dec-73', 'Sep-73', 'Mar-73', 'Dec-77',\n",
       "       'Oct-76', 'Jan-74', 'Jan-70', 'Aug-68', 'Apr-83', 'Jan-75',\n",
       "       'Dec-74', 'Feb-73', 'Nov-65', 'Jun-82', 'Jun-74', 'May-65',\n",
       "       'Oct-70', 'Apr-76', 'Oct-71', 'Apr-77', 'Sep-78', 'Oct-78',\n",
       "       'Oct-54', 'Feb-81', 'Jan-77', 'Aug-77', 'Dec-78', 'Aug-76',\n",
       "       'Jun-68', 'Jun-78', 'Oct-72', 'Jun-69', 'May-80', 'Jan-79',\n",
       "       'Oct-65', 'Nov-74', 'Apr-66', 'Jun-76', 'Feb-72', 'May-76',\n",
       "       'Mar-76', 'Jul-70', 'Mar-79', 'Apr-73', 'Jul-76', 'Jul-82',\n",
       "       'Sep-65', 'Apr-67', 'Oct-63', 'Feb-70', 'Jul-73', 'Feb-78',\n",
       "       'Nov-71', 'Aug-72', 'Jul-75', 'Sep-70', 'Jul-81', 'Sep-72',\n",
       "       'May-70', 'May-63', 'Feb-69', 'Nov-80', 'Jul-67', 'Apr-70',\n",
       "       'Nov-77', 'Nov-66', 'May-71', 'Mar-68', 'Apr-79', 'May-72',\n",
       "       'Feb-68', 'Nov-67', 'Apr-64', 'Feb-75', 'Mar-74', 'Jun-59',\n",
       "       'Sep-56', 'Jun-66', 'Jan-46', 'Mar-66', 'Jan-63', 'Dec-50',\n",
       "       'Jul-69', 'Jan-68', 'Nov-73', 'Jun-70', 'Feb-77', 'Feb-74',\n",
       "       'Jan-73', 'Feb-66', 'Sep-64', 'Dec-61', 'Aug-73', 'Aug-70',\n",
       "       'Sep-69', 'Jun-71', 'Sep-75', 'Dec-68', 'Feb-76', 'Nov-54',\n",
       "       'Mar-72', 'Nov-79', 'Oct-69', 'Dec-65', 'Apr-72', 'Nov-72',\n",
       "       'Sep-63', 'Apr-69', 'Nov-62', 'Oct-67', 'May-67', 'Nov-61',\n",
       "       'Feb-67', 'Nov-68', 'Oct-75', 'Mar-71', 'Aug-71', 'Dec-66',\n",
       "       'Oct-68', 'Oct-74'], dtype=object)"
      ]
     },
     "execution_count": 140,
     "metadata": {},
     "output_type": "execute_result"
    }
   ],
   "source": [
    "df['earliest_cr_line'].unique()"
   ]
  },
  {
   "cell_type": "code",
   "execution_count": 141,
   "metadata": {},
   "outputs": [
    {
     "name": "stderr",
     "output_type": "stream",
     "text": [
      "/var/folders/_1/j7jqjd896yb00t516lkn5j280000gn/T/ipykernel_1426/3445922075.py:1: SettingWithCopyWarning: \n",
      "A value is trying to be set on a copy of a slice from a DataFrame.\n",
      "Try using .loc[row_indexer,col_indexer] = value instead\n",
      "\n",
      "See the caveats in the documentation: https://pandas.pydata.org/pandas-docs/stable/user_guide/indexing.html#returning-a-view-versus-a-copy\n",
      "  df['earliest_cr_line']=pd.to_datetime(df['earliest_cr_line'], format='%b-%y')\n"
     ]
    }
   ],
   "source": [
    "df['earliest_cr_line']=pd.to_datetime(df['earliest_cr_line'], format='%b-%y')"
   ]
  },
  {
   "cell_type": "code",
   "execution_count": 142,
   "metadata": {},
   "outputs": [
    {
     "data": {
      "text/plain": [
       "id                                     int64\n",
       "member_id                              int64\n",
       "loan_amnt                              int64\n",
       "funded_amnt                            int64\n",
       "funded_amnt_inv                      float64\n",
       "term                                   int64\n",
       "int_rate                             float64\n",
       "installment                          float64\n",
       "grade                                 object\n",
       "sub_grade                             object\n",
       "emp_length                             Int64\n",
       "home_ownership                        object\n",
       "annual_inc                           float64\n",
       "verification_status                   object\n",
       "issue_d                       datetime64[ns]\n",
       "loan_status                           object\n",
       "purpose                               object\n",
       "addr_state                            object\n",
       "dti                                  float64\n",
       "delinq_2yrs                            int64\n",
       "earliest_cr_line              datetime64[ns]\n",
       "inq_last_6mths                         int64\n",
       "open_acc                               int64\n",
       "pub_rec                                int64\n",
       "revol_bal                              int64\n",
       "revol_util                            object\n",
       "total_acc                              int64\n",
       "initial_list_status                   object\n",
       "out_prncp                            float64\n",
       "out_prncp_inv                        float64\n",
       "total_pymnt                          float64\n",
       "total_pymnt_inv                      float64\n",
       "total_rec_prncp                      float64\n",
       "total_rec_int                        float64\n",
       "total_rec_late_fee                   float64\n",
       "recoveries                           float64\n",
       "collection_recovery_fee              float64\n",
       "last_pymnt_d                          object\n",
       "last_pymnt_amnt                      float64\n",
       "last_credit_pull_d                    object\n",
       "collections_12_mths_ex_med           float64\n",
       "policy_code                            int64\n",
       "application_type                      object\n",
       "acc_now_delinq                         int64\n",
       "chargeoff_within_12_mths             float64\n",
       "delinq_amnt                            int64\n",
       "pub_rec_bankruptcies                 float64\n",
       "tax_liens                            float64\n",
       "dtype: object"
      ]
     },
     "execution_count": 142,
     "metadata": {},
     "output_type": "execute_result"
    }
   ],
   "source": [
    "df.dtypes"
   ]
  },
  {
   "cell_type": "code",
   "execution_count": 143,
   "metadata": {},
   "outputs": [
    {
     "data": {
      "text/plain": [
       "array(['B', 'C', 'A', 'E', 'F', 'D', 'G'], dtype=object)"
      ]
     },
     "execution_count": 143,
     "metadata": {},
     "output_type": "execute_result"
    }
   ],
   "source": [
    "df['grade'].unique()"
   ]
  },
  {
   "cell_type": "code",
   "execution_count": 144,
   "metadata": {},
   "outputs": [
    {
     "data": {
      "text/plain": [
       "array(['B2', 'C4', 'C5', 'C1', 'A4', 'E1', 'F2', 'B5', 'C3', 'B1', 'D1',\n",
       "       'A1', 'B3', 'B4', 'C2', 'D2', 'A3', 'A5', 'D5', 'A2', 'E4', 'D3',\n",
       "       'D4', 'F3', 'E3', 'F1', 'E5', 'G4', 'E2', 'G2', 'G1', 'F5', 'F4',\n",
       "       'G5', 'G3'], dtype=object)"
      ]
     },
     "execution_count": 144,
     "metadata": {},
     "output_type": "execute_result"
    }
   ],
   "source": [
    "df['sub_grade'].unique()"
   ]
  },
  {
   "cell_type": "code",
   "execution_count": 146,
   "metadata": {},
   "outputs": [
    {
     "data": {
      "text/plain": [
       "Index(['id', 'member_id', 'loan_amnt', 'funded_amnt', 'funded_amnt_inv',\n",
       "       'term', 'int_rate', 'installment', 'grade', 'sub_grade', 'emp_length',\n",
       "       'home_ownership', 'annual_inc', 'verification_status', 'issue_d',\n",
       "       'loan_status', 'purpose', 'addr_state', 'dti', 'delinq_2yrs',\n",
       "       'earliest_cr_line', 'inq_last_6mths', 'open_acc', 'pub_rec',\n",
       "       'revol_bal', 'revol_util', 'total_acc', 'initial_list_status',\n",
       "       'out_prncp', 'out_prncp_inv', 'total_pymnt', 'total_pymnt_inv',\n",
       "       'total_rec_prncp', 'total_rec_int', 'total_rec_late_fee', 'recoveries',\n",
       "       'collection_recovery_fee', 'last_pymnt_d', 'last_pymnt_amnt',\n",
       "       'last_credit_pull_d', 'collections_12_mths_ex_med', 'policy_code',\n",
       "       'application_type', 'acc_now_delinq', 'chargeoff_within_12_mths',\n",
       "       'delinq_amnt', 'pub_rec_bankruptcies', 'tax_liens'],\n",
       "      dtype='object')"
      ]
     },
     "execution_count": 146,
     "metadata": {},
     "output_type": "execute_result"
    }
   ],
   "source": [
    "df.columns"
   ]
  },
  {
   "cell_type": "code",
   "execution_count": null,
   "metadata": {},
   "outputs": [],
   "source": []
  }
 ],
 "metadata": {
  "kernelspec": {
   "display_name": "base",
   "language": "python",
   "name": "python3"
  },
  "language_info": {
   "codemirror_mode": {
    "name": "ipython",
    "version": 3
   },
   "file_extension": ".py",
   "mimetype": "text/x-python",
   "name": "python",
   "nbconvert_exporter": "python",
   "pygments_lexer": "ipython3",
   "version": "3.11.5"
  }
 },
 "nbformat": 4,
 "nbformat_minor": 4
}
